{
 "cells": [
  {
   "cell_type": "markdown",
   "source": [
    "# ADM Homework 3\n",
    "\n",
    "This homework requires a number of long-running tasks to be executed one after the other.\n",
    "\n",
    "The work is mostly presented through a series of Python scripts, each one executing one processing step and implementing its own error recovery strategy.\n",
    "\n",
    "This notebook will link the scripts in order, to make it easier to follow what's happening."
   ],
   "metadata": {
    "collapsed": false,
    "pycharm": {
     "name": "#%% md\n"
    }
   }
  },
  {
   "cell_type": "markdown",
   "source": [
    "## Downloading top charts ([script](download_top_charts.py))\n",
    "\n",
    "The first step in the homework is to download all the pages in MyAnimeList's top anime charts. The HW requires the first 20K animes to be downloaded, but MAL as a whole only contains ~19K.\n",
    "\n",
    "The top charts' pages are saved in a directory one after the other. In case of errors, it is possible to re-launch the script and the download will resume seamlessly, as the number of successfully downloaded files can be used to compute the page on which an error happened.\n",
    "\n",
    "This same strategy will be used in all the scripts in which an error may happen in expensive tasks."
   ],
   "metadata": {
    "collapsed": false,
    "pycharm": {
     "name": "#%% md\n"
    }
   }
  },
  {
   "cell_type": "markdown",
   "source": [
    "## Extracting anime URLs ([script](extract_anime_urls.py))\n",
    "\n",
    "Now that we downloaded all the top charts' pages, we simply parse them to extract all the URLs, which are then saved to a TXT file."
   ],
   "metadata": {
    "collapsed": false,
    "pycharm": {
     "name": "#%% md\n"
    }
   }
  },
  {
   "cell_type": "markdown",
   "source": [
    "## Downloading all individual anime's pages ([script](download_anime.py))\n",
    "\n",
    "We iterate the URLs that we retrieved in the previous step, and download them all. Since we're swarming the server with requests, the site will start rate-limiting us.\n",
    "\n",
    "I just implemented a retry-strategy that waits some time after each error and then simply tries again, including an incremental backoff to avoid an excessive load when failures start happening."
   ],
   "metadata": {
    "collapsed": false,
    "pycharm": {
     "name": "#%% md\n"
    }
   }
  },
  {
   "cell_type": "markdown",
   "source": [
    "## Parsing pages ([script](parse_pages.py))\n",
    "\n",
    "Here we extract all the required information from the pages. I took a look at the page's source code to try and find the simplest BeautifulSoup query to extract the information and wrapped it with safety checks to deal with possibly unexpected formats.\n",
    "\n",
    "For each anime, a TSV has been generated according to the specification."
   ],
   "metadata": {
    "collapsed": false,
    "pycharm": {
     "name": "#%% md\n"
    }
   }
  },
  {
   "cell_type": "markdown",
   "source": [
    "## Extracting search info ([script](extract_search_info.py))\n",
    "\n",
    "This is a post-processing step on the previous script, to retain only info needed in the search engine (title, NLTK-processed synopsis and URL).\n",
    "\n",
    "Synopsis processing involves removing stopwords and punctuation and running lemmatization jointly with part-of-speech tagging. Here this approach was chosen to try and get more meaningful results, trying to leverage the text's semantics, compared to simple stemming.\n",
    "\n",
    "For simplicity, for each anime a file is produced where the first line denotes the title, the second the URL, each of the following ones is a lemma from the synopsis."
   ],
   "metadata": {
    "collapsed": false,
    "pycharm": {
     "name": "#%% md\n"
    }
   }
  },
  {
   "cell_type": "markdown",
   "source": [
    "## Create the vocabulary ([script](create_vocabulary.py))\n",
    "\n",
    "Create the vocabulary. It is a txt file where each line denotes a word, the ID being implied by the word's ordering (first word is 0, second is 1 and so on)."
   ],
   "metadata": {
    "collapsed": false,
    "pycharm": {
     "name": "#%% md\n"
    }
   }
  },
  {
   "cell_type": "markdown",
   "source": [
    "## Create the first inverted index ([script](create_first_index.py))\n",
    "\n",
    "Now that we have extracted the synopses from each anime, lemmatized them and build a vocabulary, the next step is to create the index mapping each term to the documents it appears in."
   ],
   "metadata": {
    "collapsed": false,
    "pycharm": {
     "name": "#%% md\n"
    }
   }
  },
  {
   "cell_type": "markdown",
   "source": [
    "## Start running queries!\n",
    "\n",
    "Now we can show some results here. We built the index, let's use it to run a query."
   ],
   "metadata": {
    "collapsed": false,
    "pycharm": {
     "name": "#%% md\n"
    }
   }
  },
  {
   "cell_type": "code",
   "execution_count": 1,
   "outputs": [
    {
     "name": "stdout",
     "output_type": "stream",
     "text": [
      "[('Dragon Ball Z Movie 10: Kiken na Futari! Super Senshi wa Nemurenai', 'After his loss to Goku, Broly crash lands and hibernates on earth. After some time, he is awakened by Trunks and Goten, who Broly believes is Kakarott, and goes on a rampage to kill both of them. At the same time, Gohan is on his way to challenge the Legendary Super Saiyan alone.', 'https://myanimelist.net/anime/903/Dragon_Ball_Z_Movie_10__Kiken_na_Futari_Super_Senshi_wa_Nemurenai'), ('Dragon Ball Super', 'Seven years after the events of\\n              \\n              , Earth is at peace, and its people live free from any dangers lurking in the universe. However, this peace is short-lived; a sleeping evil awakens in the dark reaches of the galaxy: Beerus, the ruthless God of Destruction.\\n              \\n\\n              Disturbed by a prophecy that he will be defeated by a \"Super Saiyan God,\" Beerus and his angelic attendant Whis start searching the universe for this mysterious being. Before long, they reach Earth where they encounter Gokuu Son, one of the planet\\'s mightiest warriors, and his similarly powerful friends.\\n              \\n\\n              [Written by MAL Rewrite]', 'https://myanimelist.net/anime/30694/Dragon_Ball_Super'), ('Dragon Ball Z: The Real 4-D at Super Tenkaichi Budokai', 'is a cinematic attraction at Universal Studios Japan and the successor to\\n              \\n              . Like its predecessor, it is a new installment in the Dragon Ball series, this time primarily featuring the face off between Super Saiyan Blue Goku and Broly God.\\n              \\n\\n              (Source: Dragon Ball Wiki)', 'https://myanimelist.net/anime/42449/Dragon_Ball_Z__The_Real_4-D_at_Super_Tenkaichi_Budokai'), ('Dragon Ball Z', \"Five years after winning the World Martial Arts tournament, Gokuu is now living a peaceful life with his wife and son. This changes, however, with the arrival of a mysterious enemy named Raditz who presents himself as Gokuu's long-lost brother. He reveals that Gokuu is a warrior from the once powerful but now virtually extinct Saiyan race, whose homeworld was completely annihilated. When he was sent to Earth as a baby, Gokuu's sole purpose was to conquer and destroy the planet; but after suffering amnesia from a head injury, his violent and savage nature changed, and instead was raised as a kind and well-mannered boy, now fighting to protect others.\\n              \\n\\n              With his failed attempt at forcibly recruiting Gokuu as an ally, Raditz warns Gokuu's friends of a new threat that's rapidly approaching Earth—one that could plunge Earth into an intergalactic conflict and cause the heavens themselves to shake. A war will be fought over the seven mystical dragon balls, and only the strongest will survive in\\n              \\n              .\\n              \\n\\n              [Written by MAL Rewrite]\", 'https://myanimelist.net/anime/813/Dragon_Ball_Z'), ('Dragon Ball Z Movie 11: Super Senshi Gekiha!! Katsu no wa Ore da', \"Jaga Bada, Mr. Satan's old sparring partner, has invited Satan to his personal island to hold a grudge match. Trunks and Goten decide to come for the adventure and Android #18 is following Satan for the money he owes her. Little do they know that Jaga Bada's scientist have found a way to resurrect Broly, the legendary Super Saiyan.\", 'https://myanimelist.net/anime/904/Dragon_Ball_Z_Movie_11__Super_Senshi_Gekiha_Katsu_no_wa_Ore_da'), ('Dragon Ball Super: Broly', \"Forty-one years ago on Planet Vegeta, home of the infamous Saiyan warrior race, King Vegeta noticed a baby named Broly whose latent power exceeded that of his own son. Believing that Broly's power would one day surpass that of his child, Vegeta, the king sends Broly to the desolate planet Vampa. Broly's father Paragus follows after him, intent on rescuing his son. However, his ship gets damaged, causing the two to spend years trapped on the barren world, unaware of the salvation that would one day come from an unlikely ally.\\n              \\n\\n              Years later on Earth, Gokuu Son and Prince Vegeta—believed to be the last survivors of the Saiyan race—are busy training on a remote island. But their sparring is interrupted when the appearance of their old enemy Frieza drives them to search for the last of the wish-granting Dragon Balls on a frozen continent. Once there, Frieza shows off his new allies: Paragus and the now extremely powerful Broly. A legendary battle that shakes the foundation of the world ensues as Gokuu and Vegeta face off against Broly, a warrior without equal whose rage is just waiting to be unleashed.\\n              \\n\\n              [Written by MAL Rewrite]\", 'https://myanimelist.net/anime/36946/Dragon_Ball_Super__Broly'), ('Dragon Ball: Ossu! Kaettekita Son Gokuu to Nakama-tachi!!', \"Based on an original concept by the original author Akira Toriyama, the story, set shortly after the defeat of Majin Buu, pits Son Gokuu and his friends against a new, powerful enemy.\\n              \\n\\n              This special introduces four new characters: Abo and Kado red and blue aliens wearing battle fatigues similar to Frieza's army, one tiny yellow alien, and a young Saiyan child who vaguely resembles Vegeta named Tarble. Though very little about the plot has been revealed, Tarble has arrived on Earth, being pursued by Abo and Kado.\\n              \\n\\n              (Source: Wikipedia)\", 'https://myanimelist.net/anime/5152/Dragon_Ball__Ossu_Kaettekita_Son_Gokuu_to_Nakama-tachi'), ('Dragon Ball Z Movie 08: Moetsukiro!! Nessen, Ressen, Chougekisen', 'As Goku investigates the destruction of the Southern Galaxy, Vegeta is taken to be King of the New Planet Vegeta, and to destroy the Legendary Super Saiyan, Broly.\\n              \\n\\n              (Source: ANN)', 'https://myanimelist.net/anime/901/Dragon_Ball_Z_Movie_08__Moetsukiro_Nessen_Ressen_Chougekisen'), ('Dragon Ball Z Special 1: Tatta Hitori no Saishuu Kessen', \"Bardock, Son Goku's father, is a low-ranking Saiyan soldier who was given the power to see into the future by the last remaining alien on a planet he just destroyed. He witnesses the destruction of his race and must now do his best to stop Frieza's impending massacre.\\n              \\n\\n              (Source: ANN)\", 'https://myanimelist.net/anime/986/Dragon_Ball_Z_Special_1__Tatta_Hitori_no_Saishuu_Kessen'), ('Dragon Ball Z Movie 14: Kami to Kami', 'Following the defeat of a great adversary, Gokuu Son and his friends live peaceful lives on Earth. Meanwhile, in space, Beerus the God of Destruction awakens from his long slumber, having dreamed of an entity known as a Super Saiyan God. With the help of his assistant, Whis, Beerus looks for this powerful being, as he wishes to fight a worthy opponent. After discovering that the Saiyan home planet was destroyed, he tracks down the remaining Saiyans on Earth, looking for Gokuu specifically.\\n              \\n\\n              Having only heard of the Super Saiyan God in legends, Gokuu and his comrades summon Shen Long the Eternal Dragon, who they find out is afraid of Beerus. After learning the secret of the Super Saiyan God, an intense battle between Gokuu and Beerus commences, the immense power of which puts the Earth in terrible danger.\\n              \\n\\n              [Written by MAL Rewrite]', 'https://myanimelist.net/anime/14837/Dragon_Ball_Z_Movie_14__Kami_to_Kami')]\n"
     ]
    }
   ],
   "source": [
    "from first_index_utils import run_query_on_first_index\n",
    "\n",
    "print(run_query_on_first_index([\"saiyan\"]))"
   ],
   "metadata": {
    "collapsed": false,
    "pycharm": {
     "name": "#%%\n"
    }
   }
  },
  {
   "cell_type": "markdown",
   "source": [
    "\"Saiyan\" yields plenty of Dragon Ball-related results, yay!"
   ],
   "metadata": {
    "collapsed": false,
    "pycharm": {
     "name": "#%% md\n"
    }
   }
  },
  {
   "cell_type": "markdown",
   "source": [
    "## Create the second inverted index ([script](create_second_index.py))\n",
    "\n",
    "Now it's time to build the second index, including tf-idf information."
   ],
   "metadata": {
    "collapsed": false,
    "pycharm": {
     "name": "#%% md\n"
    }
   }
  },
  {
   "cell_type": "markdown",
   "source": [
    "## Use the second inverted index to run some queries"
   ],
   "metadata": {
    "collapsed": false,
    "pycharm": {
     "name": "#%% md\n"
    }
   }
  },
  {
   "cell_type": "code",
   "source": [
    "from second_index_utils import run_query_on_second_index\n",
    "\n",
    "for title, synopsis, url, score in run_query_on_second_index([\"edward\", \"alphonse\", \"elric\", \"alchemy\"], limit=10):\n",
    "    print(title, score)"
   ],
   "metadata": {
    "collapsed": false,
    "pycharm": {
     "name": "#%%\n"
    }
   },
   "execution_count": 2,
   "outputs": [
    {
     "name": "stdout",
     "output_type": "stream",
     "text": [
      "Fullmetal Alchemist 0.9983521768747784\n",
      "Fullmetal Alchemist: Brotherhood 0.9983521768747783\n",
      "Cowboy Bebop 0.5\n",
      "Baccano! 0.5\n",
      "Cowboy Bebop: Tengoku no Tobira 0.5\n",
      "Fullmetal Alchemist: Brotherhood Specials 0.5\n"
     ]
    }
   ]
  },
  {
   "cell_type": "markdown",
   "source": [
    "As expected, using terms specific to FMA leads to its anime adaptations being returned first."
   ],
   "metadata": {
    "collapsed": false,
    "pycharm": {
     "name": "#%% md\n"
    }
   }
  },
  {
   "cell_type": "markdown",
   "source": [
    "## Define a custom scoring function and use it\n",
    "\n",
    "Here we propose a simple extension on the previous function. The methods used next will be defined in files nearly identical to\n",
    "those for the second index, but with additional metrics other than just the tf-idf score for terms.\n",
    "\n",
    "We let the user choose the popularity of the animes he is looking for with a set of discrete values (e.g. \"popular\", or \"unpopular\").\n",
    "\n",
    "The search engine will then return better values for the animes matching the requested popularity."
   ],
   "metadata": {
    "collapsed": false,
    "pycharm": {
     "name": "#%% md\n"
    }
   }
  },
  {
   "cell_type": "code",
   "execution_count": 2,
   "outputs": [
    {
     "name": "stdout",
     "output_type": "stream",
     "text": [
      "Preferring popular:\n",
      "\n",
      "Trinity Seven Movie 1: Eternity Library to Alchemic Girl 0.9996700235021817\n",
      "Fullmetal Alchemist: The Conqueror of Shamballa 0.9869923768866931\n",
      "Sennin Buraku 0.9656432263957028\n",
      "Ta ga Tame no Alchemist 0.9390929455175276\n",
      "Marginal Prince: Gekkeiju no Ouji-tachi 0.8869821137189765\n",
      "Ulysses: Jehanne Darc to Renkin no Kishi 0.8771241845476473\n",
      "Fullmetal Alchemist: Brotherhood Specials 0.8765832877888874\n",
      "Escha & Logy no Atelier: Tasogare no Sora no Renkinjutsushi 0.8686484507919257\n",
      "Fullmetal Alchemist 0.8516171728119157\n",
      "Baccano! 0.7706709616460629\n",
      "\n",
      "Preferring unpopular:\n",
      "\n",
      "Sennin Buraku 0.9476496161796694\n",
      "Ulysses: Jehanne Darc to Renkin no Kishi 0.9132394643903063\n",
      "Marginal Prince: Gekkeiju no Ouji-tachi 0.8780826501353798\n",
      "Ta ga Tame no Alchemist 0.8458922826507763\n",
      "Trinity Seven Movie 1: Eternity Library to Alchemic Girl 0.8052310843540685\n",
      "Escha & Logy no Atelier: Tasogare no Sora no Renkinjutsushi 0.7976434836009122\n",
      "Fullmetal Alchemist: The Conqueror of Shamballa 0.7846459023645279\n",
      "Fullmetal Alchemist: Brotherhood Specials 0.7721447953921606\n",
      "Baccano! 0.769498730469291\n",
      "Fullmetal Alchemist 0.7667441915974668\n"
     ]
    }
   ],
   "source": [
    "from custom_metrics_utils import run_custom_query\n",
    "\n",
    "print(\"Preferring popular:\\n\")\n",
    "for title, synopsis, url, score in run_custom_query([\"alchemy\"], \"popular\", limit=10):\n",
    "    print(title, score)\n",
    "print(\"\\nPreferring unpopular:\\n\")\n",
    "for title, synopsis, url, score in run_custom_query([\"alchemy\"], \"unpopular\", limit=10):\n",
    "    print(title, score)"
   ],
   "metadata": {
    "collapsed": false,
    "pycharm": {
     "name": "#%%\n"
    }
   }
  },
  {
   "cell_type": "markdown",
   "source": [
    "While the heuristic here was pretty simple we can still observe some results.\n",
    "\n",
    "In particular, preferring unpopular anime resulted in the FMA shows getting a lower score, as would have been expected.\n",
    "\n",
    "Even so, results may be improved by using more metrics than just the ranking, or by combining them in different ways (different weighting system, or combining them differently from just appending them to the documents' feature vectors)."
   ],
   "metadata": {
    "collapsed": false,
    "pycharm": {
     "name": "#%% md\n"
    }
   }
  },
  {
   "cell_type": "markdown",
   "metadata": {
    "collapsed": true,
    "pycharm": {
     "name": "#%% md\n"
    }
   },
   "source": [
    "# Algorithmic Question\n",
    "\n",
    "The problem is a classic example in which dynamic programming can be used to find a solution.\n",
    "\n",
    "There are some instances whose solution is trivial, namely:\n",
    "- If the array has no element, then the maximum possible duration is 0;\n",
    "- If the array has just one element, then the mamixum possible duration is the value of its only element.\n",
    "\n",
    "Let's see what happens if the array is longer:\n",
    "- With an array of length 2, you pick the biggest of the two elements;\n",
    "- With an array of length 3, you either pick the second element, or the sum of the first and third, whichever is higher;\n",
    "- With an array of length 4, there are much more possible choices.\n",
    "\n",
    "Luckily, the first two cases can be used to design a recursive solution.\n",
    "\n",
    "The trainer goes over his appointments in order. For each one, say the n-th, he can either:\n",
    "- Accept the appointment, in which case the next possible appointment he can accept is the (n+2)-th;\n",
    "- Decline the appointment, in which case the next possible appointment he can accept is the (n+1)-th.\n",
    "\n",
    "The algorithm goes over each appointment, and at each step computes the highest value it can reach both by accepting or declining the appointment.\n",
    "Depending on the choice, it recurses checking the max value for the sub-array starting at position either n+1 or n+2."
   ]
  },
  {
   "cell_type": "code",
   "execution_count": 1,
   "outputs": [],
   "source": [
    "def solution(arr):\n",
    "    # Base cases\n",
    "    if len(arr) == 0:\n",
    "        return []\n",
    "    elif len(arr) == 1:\n",
    "        return [arr[0]]\n",
    "\n",
    "    max_if_accept = [arr[0]] + solution(arr[2:])\n",
    "    max_if_decline = solution(arr[1:])\n",
    "\n",
    "    return (\n",
    "        max_if_accept\n",
    "        if sum(max_if_accept) >= sum(max_if_decline)\n",
    "        else max_if_decline\n",
    "    )"
   ],
   "metadata": {
    "collapsed": false,
    "pycharm": {
     "name": "#%%\n"
    }
   }
  },
  {
   "cell_type": "markdown",
   "source": [
    "Let's run the algorithm on the example from the homework:"
   ],
   "metadata": {
    "collapsed": false,
    "pycharm": {
     "name": "#%% md\n"
    }
   }
  },
  {
   "cell_type": "code",
   "execution_count": 4,
   "outputs": [
    {
     "data": {
      "text/plain": "[40, 50, 20]"
     },
     "execution_count": 4,
     "metadata": {},
     "output_type": "execute_result"
    }
   ],
   "source": [
    "solution([30, 40, 25, 50, 30, 20])"
   ],
   "metadata": {
    "collapsed": false,
    "pycharm": {
     "name": "#%%\n"
    }
   }
  },
  {
   "cell_type": "markdown",
   "source": [
    "Yay, it works!\n",
    "\n",
    "Now here's a snippet to try it yourself:"
   ],
   "metadata": {
    "collapsed": false,
    "pycharm": {
     "name": "#%% md\n"
    }
   }
  },
  {
   "cell_type": "code",
   "execution_count": 6,
   "outputs": [
    {
     "name": "stdout",
     "output_type": "stream",
     "text": [
      "Insert the lengths of the appointments (e.g. \"1, 2, 3\")\n",
      "Your input: [30, 40, 25, 50, 30, 20]\n",
      "Solution: [40, 50, 20]\n"
     ]
    }
   ],
   "source": [
    "print('Insert the lengths of the appointments (e.g. \"1, 2, 3\")')\n",
    "array = list(map(int, input().split(', ')))\n",
    "\n",
    "print(f\"Your input: {array}\")\n",
    "print(f\"Solution: {solution(array)}\")\n"
   ],
   "metadata": {
    "collapsed": false,
    "pycharm": {
     "name": "#%%\n"
    }
   }
  }
 ],
 "metadata": {
  "kernelspec": {
   "display_name": "Python 3",
   "language": "python",
   "name": "python3"
  },
  "language_info": {
   "codemirror_mode": {
    "name": "ipython",
    "version": 2
   },
   "file_extension": ".py",
   "mimetype": "text/x-python",
   "name": "python",
   "nbconvert_exporter": "python",
   "pygments_lexer": "ipython2",
   "version": "2.7.6"
  }
 },
 "nbformat": 4,
 "nbformat_minor": 0
}