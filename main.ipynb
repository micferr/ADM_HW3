{
 "cells": [
  {
   "cell_type": "markdown",
   "source": [
    "# ADM Homework 3\n",
    "\n",
    "This homework requires a number of long-running tasks to be executed one after the other.\n",
    "\n",
    "The work is mostly presented through a series of Python scripts, each one executing one processing step and implementing its own error recovery strategy.\n",
    "\n",
    "This notebook will link the scripts in order, to make it easier to follow what's happeing."
   ],
   "metadata": {
    "collapsed": false,
    "pycharm": {
     "name": "#%% md\n"
    }
   }
  },
  {
   "cell_type": "markdown",
   "source": [
    "## Downloading top charts ([script](download_top_charts.py))\n",
    "\n",
    "The first step in the homework is to download all the pages in MyAnimeList's top anime charts. The HW requires the first 20K animes to be downloaded, but MAL as a whole only contains ~19K.\n",
    "\n",
    "The top charts' pages are saved in a directory one after the other. In case of errors, it is possible to re-launch the script and the download will resume seamlessly, as the number of successfully downloaded files can be used to compute the page on which an error happened.\n",
    "\n",
    "This same strategy will be used in all the scripts in which an error may happen in expensive tasks."
   ],
   "metadata": {
    "collapsed": false,
    "pycharm": {
     "name": "#%% md\n"
    }
   }
  },
  {
   "cell_type": "markdown",
   "source": [
    "## Extracting anime URLs ([script](extract_anime_urls.py))\n",
    "\n",
    "Now that we downloaded all the top charts' pages, we simply parse them to extract all the URLs, which are then saved to a TXT file."
   ],
   "metadata": {
    "collapsed": false,
    "pycharm": {
     "name": "#%% md\n"
    }
   }
  },
  {
   "cell_type": "markdown",
   "source": [
    "## Downloading all individual anime's pages ([script](download_anime.py))\n",
    "\n",
    "We iterate the URLs that we retrieved in the previous step, and download them all. Since we're swarming the server with requests, the site will start rate-limiting us.\n",
    "\n",
    "I just implemented a retry-strategy that waits some time after each error and then simply tries again, including an incremental backoff to avoid an excessive load when failures start happening."
   ],
   "metadata": {
    "collapsed": false,
    "pycharm": {
     "name": "#%% md\n"
    }
   }
  },
  {
   "cell_type": "markdown",
   "source": [
    "## Parsing pages ([script](parse_pages.py))\n",
    "\n",
    "Here we extract all the required information from the pages. I took a look at the page's source code to try and find the simplest BeautifulSoup query to extract the information and wrapped it with safety checks to deal with possibly unexpected formats.\n",
    "\n",
    "For each anime, a TSV has been generated according to the specification."
   ],
   "metadata": {
    "collapsed": false,
    "pycharm": {
     "name": "#%% md\n"
    }
   }
  },
  {
   "cell_type": "markdown",
   "metadata": {
    "collapsed": true,
    "pycharm": {
     "name": "#%% md\n"
    }
   },
   "source": [
    "# Algorithmic Question\n",
    "\n",
    "The problem is a classic example in which dynamic programming can be used to find a solution.\n",
    "\n",
    "There are some instances whose solution is trivial, namely:\n",
    "- If the array has no element, then the maximum possible duration is 0;\n",
    "- If the array has just one element, then the mamixum possible duration is the value of its only element.\n",
    "\n",
    "Let's see what happens if the array is longer:\n",
    "- With an array of length 2, you pick the biggest of the two elements;\n",
    "- With an array of length 3, you either pick the second element, or the sum of the first and third, whichever is higher;\n",
    "- With an array of length 4, there are much more possible choices.\n",
    "\n",
    "Luckily, the first two cases can be used to design a recursive solution.\n",
    "\n",
    "The trainer goes over his appointments in order. For each one, say the n-th, he can either:\n",
    "- Accept the appointment, in which case the next possible appointment he can accept is the (n+2)-th;\n",
    "- Decline the appointment, in which case the next possible appointment he can accept is the (n+1)-th.\n",
    "\n",
    "The algorithm goes over each appointment, and at each step computes the highest value it can reach both by accepting or declining the appointment.\n",
    "Depending on the choice, it recurses checking the max value for the sub-array starting at position either n+1 or n+2."
   ]
  },
  {
   "cell_type": "code",
   "execution_count": 1,
   "outputs": [],
   "source": [
    "def solution(arr):\n",
    "    # Base cases\n",
    "    if len(arr) == 0:\n",
    "        return []\n",
    "    elif len(arr) == 1:\n",
    "        return [arr[0]]\n",
    "\n",
    "    max_if_accept = [arr[0]] + solution(arr[2:])\n",
    "    max_if_decline = solution(arr[1:])\n",
    "\n",
    "    return (\n",
    "        max_if_accept\n",
    "        if sum(max_if_accept) >= sum(max_if_decline)\n",
    "        else max_if_decline\n",
    "    )"
   ],
   "metadata": {
    "collapsed": false,
    "pycharm": {
     "name": "#%%\n"
    }
   }
  },
  {
   "cell_type": "markdown",
   "source": [
    "Let's run the algorithm on the example from the homework:"
   ],
   "metadata": {
    "collapsed": false,
    "pycharm": {
     "name": "#%% md\n"
    }
   }
  },
  {
   "cell_type": "code",
   "execution_count": 4,
   "outputs": [
    {
     "data": {
      "text/plain": "[40, 50, 20]"
     },
     "execution_count": 4,
     "metadata": {},
     "output_type": "execute_result"
    }
   ],
   "source": [
    "solution([30, 40, 25, 50, 30, 20])"
   ],
   "metadata": {
    "collapsed": false,
    "pycharm": {
     "name": "#%%\n"
    }
   }
  },
  {
   "cell_type": "markdown",
   "source": [
    "Yay, it works!\n",
    "\n",
    "Now here's a snippet to try it yourself:"
   ],
   "metadata": {
    "collapsed": false,
    "pycharm": {
     "name": "#%% md\n"
    }
   }
  },
  {
   "cell_type": "code",
   "execution_count": 6,
   "outputs": [
    {
     "name": "stdout",
     "output_type": "stream",
     "text": [
      "Insert the lengths of the appointments (e.g. \"1, 2, 3\")\n",
      "Your input: [30, 40, 25, 50, 30, 20]\n",
      "Solution: [40, 50, 20]\n"
     ]
    }
   ],
   "source": [
    "print('Insert the lengths of the appointments (e.g. \"1, 2, 3\")')\n",
    "array = list(map(int, input().split(', ')))\n",
    "\n",
    "print(f\"Your input: {array}\")\n",
    "print(f\"Solution: {solution(array)}\")\n"
   ],
   "metadata": {
    "collapsed": false,
    "pycharm": {
     "name": "#%%\n"
    }
   }
  }
 ],
 "metadata": {
  "kernelspec": {
   "display_name": "Python 3",
   "language": "python",
   "name": "python3"
  },
  "language_info": {
   "codemirror_mode": {
    "name": "ipython",
    "version": 2
   },
   "file_extension": ".py",
   "mimetype": "text/x-python",
   "name": "python",
   "nbconvert_exporter": "python",
   "pygments_lexer": "ipython2",
   "version": "2.7.6"
  }
 },
 "nbformat": 4,
 "nbformat_minor": 0
}